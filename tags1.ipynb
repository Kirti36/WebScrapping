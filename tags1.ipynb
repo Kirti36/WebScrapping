{
 "cells": [
  {
   "cell_type": "code",
   "execution_count": 1,
   "id": "8b0c6a13",
   "metadata": {},
   "outputs": [],
   "source": [
    "import requests\n",
    "from bs4 import BeautifulSoup"
   ]
  },
  {
   "cell_type": "code",
   "execution_count": 2,
   "id": "ce6817b8",
   "metadata": {},
   "outputs": [],
   "source": [
    "with open('sample.html','r') as f:\n",
    "    html_doc = f.read()\n",
    "    \n",
    "soup = BeautifulSoup(html_doc,'html.parser')"
   ]
  },
  {
   "cell_type": "code",
   "execution_count": 3,
   "id": "17fabe7d",
   "metadata": {
    "collapsed": true
   },
   "outputs": [
    {
     "name": "stdout",
     "output_type": "stream",
     "text": [
      "<!DOCTYPE html>\n",
      "<html>\n",
      " <body>\n",
      "  <p>\n",
      "   This is a paragraph.\n",
      "  </p>\n",
      "  <p>\n",
      "   This is another paragraph.\n",
      "  </p>\n",
      "  <h1 id=\"myHeader\">\n",
      "   My Header\n",
      "  </h1>\n",
      "  <h2 id=\"abc\">\n",
      "   ABC\n",
      "  </h2>\n",
      "  <div>\n",
      "   <h2>\n",
      "    HTML Links\n",
      "   </h2>\n",
      "   <p>\n",
      "    HTML links are defined with the a tag:\n",
      "   </p>\n",
      "   <a href=\"https://google.com\">\n",
      "    1 This is a link\n",
      "   </a>\n",
      "   <div class=\"city\">\n",
      "    <h2>\n",
      "     London\n",
      "    </h2>\n",
      "    <p>\n",
      "     London is the capital of England.\n",
      "    </p>\n",
      "   </div>\n",
      "   <div class=\"city\">\n",
      "    <h2>\n",
      "     Paris\n",
      "    </h2>\n",
      "    <p>\n",
      "     Paris is the capital of France.\n",
      "    </p>\n",
      "   </div>\n",
      "  </div>\n",
      "  <div class=\"palace\">\n",
      "   <h2>\n",
      "    London\n",
      "   </h2>\n",
      "   <p>\n",
      "    London is the capital of England.\n",
      "   </p>\n",
      "   <div class=\"box\">\n",
      "    I am Box\n",
      "   </div>\n",
      "   <div class=\"box\">\n",
      "    I am Box\n",
      "   </div>\n",
      "   <div class=\"box\">\n",
      "    I am Box\n",
      "   </div>\n",
      "  </div>\n",
      "  <h2>\n",
      "   HTML 2 Links\n",
      "  </h2>\n",
      "  <a href=\"https://google.com\">\n",
      "   2 This is a link\n",
      "  </a>\n",
      " </body>\n",
      "</html>\n",
      "\n"
     ]
    }
   ],
   "source": [
    "print(soup.prettify())"
   ]
  },
  {
   "cell_type": "markdown",
   "id": "29b20134",
   "metadata": {},
   "source": [
    "## Find Tags"
   ]
  },
  {
   "cell_type": "code",
   "execution_count": 4,
   "id": "2925b5e9",
   "metadata": {
    "collapsed": true
   },
   "outputs": [
    {
     "name": "stdout",
     "output_type": "stream",
     "text": [
      "[<p>This is a paragraph.</p>, <p>This is another paragraph.</p>, <p>HTML links are defined with the a tag:</p>, <p>London is the capital of England.</p>, <p>Paris is the capital of France.</p>, <p>London is the capital of England.</p>]\n"
     ]
    }
   ],
   "source": [
    "#print(soup.p,type(soup.p))\n",
    "print(soup.find_all(\"p\"))"
   ]
  },
  {
   "cell_type": "code",
   "execution_count": 5,
   "id": "e2761961",
   "metadata": {},
   "outputs": [
    {
     "name": "stdout",
     "output_type": "stream",
     "text": [
      "https://google.com\n",
      "1 This is a link\n",
      "https://google.com\n",
      "2 This is a link\n"
     ]
    }
   ],
   "source": [
    "for link in soup.find_all(\"a\"):\n",
    "    print(link.get(\"href\"))\n",
    "    print(link.get_text())"
   ]
  },
  {
   "cell_type": "code",
   "execution_count": 6,
   "id": "ec6bf15a",
   "metadata": {},
   "outputs": [
    {
     "name": "stdout",
     "output_type": "stream",
     "text": [
      "ABC\n"
     ]
    }
   ],
   "source": [
    "s = soup.find(id=\"abc\")\n",
    "print(s.get_text())"
   ]
  },
  {
   "cell_type": "code",
   "execution_count": 7,
   "id": "640453be",
   "metadata": {},
   "outputs": [
    {
     "name": "stdout",
     "output_type": "stream",
     "text": [
      "[]\n"
     ]
    }
   ],
   "source": [
    "# soup.select('div.city')\n",
    "print(soup.select('div#city'))"
   ]
  },
  {
   "cell_type": "code",
   "execution_count": 8,
   "id": "bafaf702",
   "metadata": {},
   "outputs": [
    {
     "data": {
      "text/plain": [
       "<h1 id=\"myHeader\">My Header</h1>"
      ]
     },
     "execution_count": 8,
     "metadata": {},
     "output_type": "execute_result"
    }
   ],
   "source": [
    "soup.find(id='myHeader')"
   ]
  },
  {
   "cell_type": "code",
   "execution_count": 9,
   "id": "fd2f8322",
   "metadata": {},
   "outputs": [
    {
     "name": "stdout",
     "output_type": "stream",
     "text": [
      "None\n"
     ]
    }
   ],
   "source": [
    "# print(soup.get(\"class\"))\n",
    "print(soup.find(class_=\"abc\"))"
   ]
  },
  {
   "cell_type": "markdown",
   "id": "30f65da4",
   "metadata": {},
   "source": [
    "## To view child and parents tags"
   ]
  },
  {
   "cell_type": "code",
   "execution_count": 10,
   "id": "8f867525",
   "metadata": {
    "collapsed": true
   },
   "outputs": [
    {
     "data": {
      "text/plain": [
       "[<div class=\"box\">I am Box</div>,\n",
       " <div class=\"box\">I am Box</div>,\n",
       " <div class=\"box\">I am Box</div>]"
      ]
     },
     "execution_count": 10,
     "metadata": {},
     "output_type": "execute_result"
    }
   ],
   "source": [
    "boxes = soup.find_all('div', class_='box')\n",
    "boxes"
   ]
  },
  {
   "cell_type": "code",
   "execution_count": 11,
   "id": "76a13776",
   "metadata": {
    "collapsed": true
   },
   "outputs": [
    {
     "name": "stdout",
     "output_type": "stream",
     "text": [
      "I am Box\n",
      "I am Box\n",
      "I am Box\n"
     ]
    }
   ],
   "source": [
    "for box in boxes:\n",
    "    print(box.text)"
   ]
  },
  {
   "cell_type": "markdown",
   "id": "580505d6",
   "metadata": {},
   "source": [
    "or"
   ]
  },
  {
   "cell_type": "code",
   "execution_count": 14,
   "id": "ca7a943f",
   "metadata": {
    "collapsed": true
   },
   "outputs": [
    {
     "name": "stdout",
     "output_type": "stream",
     "text": [
      "\n",
      "\n",
      "\n",
      "\n",
      "<h2>London</h2>\n",
      "London\n",
      "\n",
      "\n",
      "\n",
      "\n",
      "<p>London is the capital of England.</p>\n",
      "London is the capital of England.\n",
      "\n",
      "\n",
      "\n",
      "\n",
      "<div class=\"box\">I am Box</div>\n",
      "I am Box\n",
      "\n",
      "\n",
      "\n",
      "\n",
      "<div class=\"box\">I am Box</div>\n",
      "I am Box\n",
      "\n",
      "\n",
      "\n",
      "\n",
      "<div class=\"box\">I am Box</div>\n",
      "I am Box\n",
      "\n",
      "\n",
      "\n",
      "\n"
     ]
    }
   ],
   "source": [
    "for child in soup.find(class_=\"palace\").children:  # you can use parents inplace of children\n",
    "    print(child)\n",
    "    print(child.get_text())"
   ]
  },
  {
   "cell_type": "markdown",
   "id": "cfde5b2d",
   "metadata": {},
   "source": [
    "## modify tags"
   ]
  },
  {
   "cell_type": "code",
   "execution_count": 16,
   "id": "c263d21e",
   "metadata": {},
   "outputs": [
    {
     "name": "stdout",
     "output_type": "stream",
     "text": [
      "<span class=\"city\">\n",
      "<h2>London</h2>\n",
      "<p>London is the capital of England.</p>\n",
      "</span>\n"
     ]
    }
   ],
   "source": [
    "cont = soup.find(class_=\"city\")\n",
    "cont.name = \"span\"\n",
    "print(cont)"
   ]
  },
  {
   "cell_type": "markdown",
   "id": "a5eb88b9",
   "metadata": {},
   "source": [
    "Class Change"
   ]
  },
  {
   "cell_type": "code",
   "execution_count": 18,
   "id": "f8678ac3",
   "metadata": {},
   "outputs": [
    {
     "data": {
      "text/plain": [
       "<span class=\"myclass\">\n",
       "<h2>London</h2>\n",
       "<p>London is the capital of England.</p>\n",
       "</span>"
      ]
     },
     "execution_count": 18,
     "metadata": {},
     "output_type": "execute_result"
    }
   ],
   "source": [
    "cont[\"class\"] =\"myclass\"\n",
    "cont"
   ]
  },
  {
   "cell_type": "markdown",
   "id": "6485c349",
   "metadata": {},
   "source": [
    "Content Change "
   ]
  },
  {
   "cell_type": "code",
   "execution_count": 20,
   "id": "7749bfc1",
   "metadata": {},
   "outputs": [
    {
     "data": {
      "text/plain": [
       "<span class=\"myclass\">I am changed string yohohoho..</span>"
      ]
     },
     "execution_count": 20,
     "metadata": {},
     "output_type": "execute_result"
    }
   ],
   "source": [
    "cont.string = \"I am changed string yohohoho..\"\n",
    "cont"
   ]
  },
  {
   "cell_type": "markdown",
   "id": "a3076532",
   "metadata": {},
   "source": [
    "## Insert new tags"
   ]
  },
  {
   "cell_type": "code",
   "execution_count": 21,
   "id": "90ba1d9c",
   "metadata": {},
   "outputs": [],
   "source": [
    "ulTag = soup.new_tag(\"ul\")\n",
    "liTag = soup.new_tag(\"li\")\n",
    "liTag.string=\"Contact Us\"\n",
    "ulTag.append(liTag)\n",
    "\n",
    "liTag = soup.new_tag(\"li\")\n",
    "liTag.string = \"About Us\"\n",
    "ulTag.append(liTag)\n",
    "\n",
    "soup.html.body.insert(0,ulTag)\n",
    "with open(\"modified.html\",\"w\") as f:\n",
    "    f.write(str(soup))"
   ]
  },
  {
   "cell_type": "markdown",
   "id": "edbf0c76",
   "metadata": {},
   "source": [
    "## To find Attributes are present or not"
   ]
  },
  {
   "cell_type": "code",
   "execution_count": 23,
   "id": "c104f10b",
   "metadata": {},
   "outputs": [
    {
     "name": "stdout",
     "output_type": "stream",
     "text": [
      "True\n",
      "False\n"
     ]
    }
   ],
   "source": [
    "cont = soup.find(class_=\"palace\")\n",
    "print(cont.has_attr(\"class\"))\n",
    "print(cont.has_attr(\"id\"))"
   ]
  },
  {
   "cell_type": "code",
   "execution_count": 27,
   "id": "822c373c",
   "metadata": {},
   "outputs": [],
   "source": [
    "def hasClass_but_notId(tag):\n",
    "    return tag.has_attr(\"class\") and not tag.has_attr(\"id\")\n",
    "\n",
    "result = soup.find_all(hasClass_but_notId)"
   ]
  },
  {
   "cell_type": "code",
   "execution_count": 29,
   "id": "dfd51e51",
   "metadata": {},
   "outputs": [
    {
     "name": "stdout",
     "output_type": "stream",
     "text": [
      "<span class=\"myclass\">I am changed string yohohoho..</span> \n",
      "\n",
      "\n",
      "<div class=\"city\">\n",
      "<h2>Paris</h2>\n",
      "<p>Paris is the capital of France.</p>\n",
      "</div> \n",
      "\n",
      "\n",
      "<div class=\"palace\">\n",
      "<h2>London</h2>\n",
      "<p>London is the capital of England.</p>\n",
      "<div class=\"box\">I am Box</div>\n",
      "<div class=\"box\">I am Box</div>\n",
      "<div class=\"box\">I am Box</div>\n",
      "</div> \n",
      "\n",
      "\n",
      "<div class=\"box\">I am Box</div> \n",
      "\n",
      "\n",
      "<div class=\"box\">I am Box</div> \n",
      "\n",
      "\n",
      "<div class=\"box\">I am Box</div> \n",
      "\n",
      "\n"
     ]
    }
   ],
   "source": [
    "for results in result:\n",
    "    print(results,\"\\n\\n\")"
   ]
  },
  {
   "cell_type": "code",
   "execution_count": null,
   "id": "ef63c15a",
   "metadata": {},
   "outputs": [],
   "source": []
  }
 ],
 "metadata": {
  "kernelspec": {
   "display_name": "Python 3 (ipykernel)",
   "language": "python",
   "name": "python3"
  },
  "language_info": {
   "codemirror_mode": {
    "name": "ipython",
    "version": 3
   },
   "file_extension": ".py",
   "mimetype": "text/x-python",
   "name": "python",
   "nbconvert_exporter": "python",
   "pygments_lexer": "ipython3",
   "version": "3.11.4"
  }
 },
 "nbformat": 4,
 "nbformat_minor": 5
}
